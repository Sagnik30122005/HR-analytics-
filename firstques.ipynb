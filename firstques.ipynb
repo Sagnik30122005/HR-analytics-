import pandas as pd

# Load dataset
df = pd.read_csv("employe.csv")
df.head()
