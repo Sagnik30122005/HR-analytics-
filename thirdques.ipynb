# Total employees and attrition
total_employees = df.shape[0]
left_employees = df['left'].sum()
print(f"Total Employees: {total_employees}")
print(f"Employees Who Left: {left_employees}")
print(f"Attrition Rate: {round((left_employees / total_employees) * 100, 2)}%")
